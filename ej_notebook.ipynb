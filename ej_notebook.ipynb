{
 "cells": [
  {
   "cell_type": "markdown",
   "id": "4f1818d8",
   "metadata": {},
   "source": [
    "# Pruebas\n",
    "\n",
    "En este jupyter notebook vamos a explorar un conjunto de datos sobre reservah de hoteles y tratar de hallar un modelo que nos permita predecir si la reserva va a serakihydbqwieduibheuiygdieyuvgbfyuijewvbefyujvweuyvutywefv cancelada --> "
   ]
  },
  {
   "cell_type": "code",
   "execution_count": null,
   "id": "c103787d",
   "metadata": {
    "vscode": {
     "languageId": "python"
    }
   },
   "outputs": [],
   "source": [
    "print(\"Otro mensaje completamente diferente hekhnedjhne\")"
   ]
  },
  {
   "cell_type": "code",
   "execution_count": null,
   "id": "9c91a2c8",
   "metadata": {
    "vscode": {
     "languageId": "python"
    }
   },
   "outputs": [],
   "source": [
    "print(\"Sanguche\")"
   ]
  },
  {
   "cell_type": "markdown",
   "id": "ab94f5cb",
   "metadata": {},
   "source": [
    "Importamos todas las librerias que vamos a usar"
   ]
  },
  {
   "cell_type": "code",
   "execution_count": null,
   "id": "d0c21dd1",
   "metadata": {
    "vscode": {
     "languageId": "python"
    }
   },
   "outputs": [],
   "source": [
    "import pandas as pd \n",
    "import numpy as np\n",
    "import sklearn as sk\n",
    "import seaborn as sns\n",
    "from matplotlib import pyplot as plt"
   ]
  },
  {
   "cell_type": "markdown",
   "id": "41342b09",
   "metadata": {},
   "source": [
    "Cargamos los datos en un dataframe de pandas. Creamos una copia del dataframe original y trabajamos encima de la copia"
   ]
  },
  {
   "cell_type": "code",
   "execution_count": null,
   "id": "ec9df362",
   "metadata": {
    "vscode": {
     "languageId": "python"
    }
   },
   "outputs": [],
   "source": [
    "hotelsDfOriginal = pd.read_csv(\"./hotels_train.csv\")\n",
    "hotelsdf = hotelsDfOriginal.copy()\n",
    "\n",
    "print(\"El data frame esta compuesto por \"f\"{hotelsdf.shape[0]}\"\" filas y \"f\"{hotelsdf.shape[1]}\"\" columnas\")"
   ]
  },
  {
   "cell_type": "markdown",
   "id": "6d31b2f6",
   "metadata": {},
   "source": [
    "Un vistaso básico a la información contenida en el dataframe:"
   ]
  },
  {
   "cell_type": "code",
   "execution_count": null,
   "id": "43f2dda7",
   "metadata": {
    "vscode": {
     "languageId": "python"
    }
   },
   "outputs": [],
   "source": [
    "pd.concat([hotelsdf.head(2), hotelsdf.sample(5), hotelsdf.tail(2)])"
   ]
  },
  {
   "cell_type": "markdown",
   "id": "4cad799e",
   "metadata": {},
   "source": [
    "Renombramos las columnas del dataframe con nombres mas claros y en español"
   ]
  },
  {
   "cell_type": "code",
   "execution_count": null,
   "id": "ff5d8fc7",
   "metadata": {
    "vscode": {
     "languageId": "python"
    }
   },
   "outputs": [],
   "source": [
    "nuevas_columnas = {\n",
    "    'adr':'average_daily_rate',\n",
    "    'adults':'adult_num',\n",
    "    'agent':'agent_id',\n",
    "    'arrival_date_day_of_month':'arrival_month_day',\n",
    "    'arrival_date_month':'arrival_month',\n",
    "    'arrival_date_week_number':'arrival_week_number',\n",
    "    'arrival_date_year':'arrival_year',\n",
    "    'assigned_room_type':'assigned_room_type',\n",
    "    'babies':'babies_num',\n",
    "    'booking_changes':'booking_changes_num',\n",
    "    'children':'children_num',\n",
    "    'company':'company_id',\n",
    "    'country':'country',\n",
    "    'customer_type':'customer_type',\n",
    "    'days_in_waiting_list':'days_in_waiting_list',\n",
    "    'deposit_type':'deposit_type',\n",
    "    'distribution_channel':'distribution_channel',\n",
    "    'hotel':'hotel_name',\n",
    "    'id':'booking_id', #chekear con el profesor\n",
    "    'is_canceled':'is_canceled',\n",
    "    'is_repeated_guest':'is_repeated_guest',\n",
    "    'lead_time':'lead_time',\n",
    "    'market_segment':'market_segment_type',\n",
    "    'meal':'meal_type',\n",
    "    'previous_bookings_not_canceled':'previous_bookings_not_canceled_num',\n",
    "    'previous_cancellations':'previous_cancellations_num',\n",
    "    'required_car_parking_spaces':'required_car_parking_spaces_num',\n",
    "    'reservation_status':'reservation_status',\n",
    "    'reservation_status_date':'reservation_status_date',\n",
    "    'reserved_room_type':'reserved_room_type',\n",
    "    'stays_in_weekend_nights':'weekend_nights_num',\n",
    "    'stays_in_week_nights':'week_nights_num',\n",
    "    'total_of_special_requests':'special_requests_num',\n",
    "}\n",
    "\n",
    "hotelsdf.rename(columns = nuevas_columnas, inplace = True)"
   ]
  },
  {
   "cell_type": "markdown",
   "id": "62ece063",
   "metadata": {},
   "source": [
    "Vemos el dataset con los nuevos nombres de columnas"
   ]
  },
  {
   "cell_type": "code",
   "execution_count": null,
   "id": "1470424e",
   "metadata": {
    "vscode": {
     "languageId": "python"
    }
   },
   "outputs": [],
   "source": [
    "pd.concat([hotelsdf.head(2), hotelsdf.sample(5), hotelsdf.tail(2)])"
   ]
  },
  {
   "cell_type": "markdown",
   "id": "9e424796",
   "metadata": {},
   "source": [
    "Por otro lado, podemos observar que tipo de dato almacena cada columna y cuales tienen datos faltantes"
   ]
  },
  {
   "cell_type": "code",
   "execution_count": null,
   "id": "f5d333ae",
   "metadata": {
    "vscode": {
     "languageId": "python"
    }
   },
   "outputs": [],
   "source": [
    "hotelsdf.info()"
   ]
  },
  {
   "cell_type": "markdown",
   "id": "3c671b0a",
   "metadata": {},
   "source": [
    "Segun la clasificacion de las variables podemos establecer lo siguiente sobre los datos extraidos del dataframe\n",
    "\n",
    "Variables cuantitativas, entre las cuales podemos encontrar:\n",
    "\n",
    "- lead_time \"time beetwen reservation and arrival\"\n",
    "- arrival_date_year\n",
    "- arrival_date_week_number  \n",
    "- arrival_date_day_of_month\n",
    "- stays_in_weekend_nights\n",
    "- days_in_waiting_list\n",
    "- stays_in_week_nights\n",
    "- adult\n",
    "- children\n",
    "- babies\n",
    "- previous_cancellations\n",
    "- previous_bookings_not_canceled\n",
    "- booking_changes\n",
    "- days_in_waiting_list\n",
    "- adr \"average day rate\"\n",
    "- required_car_parking_spaces\n",
    "- total_of_special_requests\n",
    "- reservation_status_date"
   ]
  },
  {
   "cell_type": "markdown",
   "id": "872606ec",
   "metadata": {},
   "source": [
    "Creamos una lista con todas las variables cuantitativas"
   ]
  },
  {
   "cell_type": "code",
   "execution_count": null,
   "id": "2e95f095",
   "metadata": {
    "vscode": {
     "languageId": "python"
    }
   },
   "outputs": [],
   "source": [
    "cuantitativas = [\"lead_time\"\n",
    ",\"arrival_year\"\n",
    ",\"arrival_week_number\"\n",
    ",\"arrival_month_day\"\n",
    ",\"weekend_nights_num\"\n",
    ",\"days_in_waiting_list\"\n",
    ",\"week_nights_num\"\n",
    ",\"adult_num\"\n",
    ",\"children_num\"\n",
    ",\"babies_num\"\n",
    ",\"previous_cancellations_num\"\n",
    ",\"previous_bookings_not_canceled_num\"\n",
    ",\"booking_changes_num\"\n",
    ",\"average_daily_rate\"\n",
    ",\"required_car_parking_spaces_num\"\n",
    ",\"special_requests_num\"\n",
    ",\"reservation_status_date\"]\n",
    "\n",
    "# Este if es se usa para evitar problemas de versiones de pandas entre la version local y la presente en Google Collab\n",
    "if (pd.__version__) == \"1.5.2\":\n",
    "    correlaciones = hotelsdf[cuantitativas].corr(numeric_only=True)\n",
    "else:\n",
    "    correlaciones = hotelsdf[cuantitativas].corr()\n",
    "\n",
    "sns.set(style = 'darkgrid')\n",
    "plt.figure( figsize = (12, 9))\n",
    "sns.heatmap(data = correlaciones,annot = True, vmin = -1, vmax =1, fmt='.2f')\n",
    "sns.color_palette(\"mako\", as_cmap=True)\n",
    "plt.show()"
   ]
  },
  {
   "cell_type": "code",
   "execution_count": null,
   "id": "caa47f83",
   "metadata": {
    "vscode": {
     "languageId": "python"
    }
   },
   "outputs": [],
   "source": [
    "hotelsdf[cuantitativas].describe()"
   ]
  },
  {
   "cell_type": "code",
   "execution_count": null,
   "id": "55223f17",
   "metadata": {
    "vscode": {
     "languageId": "python"
    }
   },
   "outputs": [],
   "source": [
    "hotelsdf.isna().sum()"
   ]
  },
  {
   "cell_type": "markdown",
   "id": "f1b05eac",
   "metadata": {},
   "source": [
    "Variables cualitativas"
   ]
  },
  {
   "cell_type": "code",
   "execution_count": null,
   "id": "33083e10",
   "metadata": {
    "vscode": {
     "languageId": "python"
    }
   },
   "outputs": [],
   "source": [
    "cualitativas = ['hotel_name',\"arrival_month\", 'meal_type', 'country', 'market_segment_type', 'distribution_channel', 'is_repeated_guest', 'reserved_room_type', 'assigned_room_type', 'deposit_type', 'customer_type', 'reservation_status']\n",
    "\n",
    "#no tiene sentido imprimir cosas como id, company, deposite_type\n",
    "\n",
    "for variable in cualitativas:\n",
    "  print(hotelsdf[variable].value_counts().index.tolist())\n",
    "\n"
   ]
  },
  {
   "cell_type": "code",
   "execution_count": null,
   "id": "fe31a071",
   "metadata": {
    "vscode": {
     "languageId": "python"
    }
   },
   "outputs": [],
   "source": [
    "print(\"hola mundo de german.\")"
   ]
  },
  {
   "cell_type": "code",
   "execution_count": null,
   "id": "6c6b4115",
   "metadata": {
    "lines_to_next_cell": 2,
    "vscode": {
     "languageId": "python"
    }
   },
   "outputs": [],
   "source": [
    "print('Mi equipo es el mejor!')"
   ]
  },
  {
   "cell_type": "markdown",
   "id": "ce998eb3",
   "metadata": {},
   "source": [
    "Esta es una nueva celda **loca**.\n",
    "La edite\n",
    "\n",
    "sdfhnikjefbhiujefhui"
   ]
  },
  {
   "cell_type": "markdown",
   "id": "511be144",
   "metadata": {},
   "source": [
    "Nueva celda"
   ]
  },
  {
   "cell_type": "markdown",
   "id": "9c2051e1",
   "metadata": {},
   "source": [
    "Hola me llamo matias"
   ]
  },
  {
   "cell_type": "code",
   "execution_count": null,
   "id": "ab63dced",
   "metadata": {
    "lines_to_next_cell": 0,
    "vscode": {
     "languageId": "python"
    }
   },
   "outputs": [],
   "source": [
    "def hola_mundo():\n",
    "    print(\"SAndia\")\n",
    "    print(\"Hola\")"
   ]
  },
  {
   "cell_type": "code",
   "execution_count": null,
   "id": "e6cdd38d",
   "metadata": {
    "lines_to_next_cell": 0,
    "vscode": {
     "languageId": "python"
    }
   },
   "outputs": [],
   "source": [
    "print(\"holaaaa\")"
   ]
  },
  {
   "cell_type": "markdown",
   "id": "ace08dbe",
   "metadata": {},
   "source": [
    "\n"
   ]
  },
  {
   "cell_type": "code",
   "execution_count": 8,
   "id": "5a7923e5",
   "metadata": {
    "vscode": {
     "languageId": "python"
    }
   },
   "outputs": [
    {
     "name": "stdout",
     "output_type": "stream",
     "text": [
      "hoola22222\n"
     ]
    }
   ],
   "source": [
    "print(\"hoola22222\")"
   ]
  },
  {
   "cell_type": "code",
   "execution_count": 9,
   "id": "ee78413b",
   "metadata": {
    "vscode": {
     "languageId": "python"
    }
   },
   "outputs": [
    {
     "name": "stdout",
     "output_type": "stream",
     "text": [
      "hoolsdfoijosijo\n"
     ]
    }
   ],
   "source": [
    "print(\"hoolsdfoijosijo\")"
   ]
  }
 ],
 "metadata": {
  "jupytext": {
   "formats": "ipynb,md"
  },
  "kernelspec": {
   "display_name": "Python 3 (ipykernel)",
   "language": "python",
   "name": "python3"
  }
 },
 "nbformat": 4,
 "nbformat_minor": 5
}
